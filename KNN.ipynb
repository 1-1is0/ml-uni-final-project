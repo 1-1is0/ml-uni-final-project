{
 "cells": [
  {
   "cell_type": "code",
   "execution_count": 109,
   "id": "776dcded",
   "metadata": {},
   "outputs": [],
   "source": [
    "# Installations\n",
    "#conda install -c conda-forge librosa\n",
    "#conda install -c conda-forge ffmpeg\n",
    "#You may need to restart the kernel (or close the jupyter notebook and restart) after instalations"
   ]
  },
  {
   "cell_type": "code",
   "execution_count": 32,
   "id": "ddddab01",
   "metadata": {},
   "outputs": [],
   "source": [
    "# imports\n",
    "\n",
    "#General\n",
    "import numpy as np\n",
    "import pandas as pd\n",
    "import itertools\n",
    "\n",
    "# System\n",
    "import os, fnmatch\n",
    "\n",
    "# Visualization\n",
    "import seaborn #visualization library, must be imported before all other plotting libraries\n",
    "import matplotlib.pyplot as plt\n",
    "from IPython.core.display import HTML, display, Image\n",
    "\n",
    "\n",
    "# Machine Learning\n",
    "from sklearn.preprocessing import LabelEncoder\n",
    "from sklearn.preprocessing import StandardScaler\n",
    "from sklearn.model_selection import StratifiedShuffleSplit\n",
    "from sklearn.neighbors import KNeighborsClassifier\n",
    "from sklearn.metrics import recall_score, precision_score, accuracy_score\n",
    "from sklearn.metrics import confusion_matrix, f1_score, classification_report\n",
    "\n",
    "\n",
    "from numpy.random import seed\n",
    "seed(1)\n",
    "\n",
    "# Audio\n",
    "import librosa.display, librosa\n",
    "\n",
    "# Configurations\n",
    "path='./data/'"
   ]
  },
  {
   "cell_type": "markdown",
   "id": "92c03007",
   "metadata": {},
   "source": [
    "## Get filenames"
   ]
  },
  {
   "cell_type": "code",
   "execution_count": 4,
   "id": "58e128be",
   "metadata": {},
   "outputs": [
    {
     "name": "stdout",
     "output_type": "stream",
     "text": [
      "found 36 audio files in ./data/\n"
     ]
    }
   ],
   "source": [
    "# Get files in data path\n",
    "\n",
    "files = []\n",
    "for root, dirnames, filenames in os.walk(path):\n",
    "    for filename in fnmatch.filter(filenames, '*.mp3'):\n",
    "        files.append(os.path.join(root, filename))\n",
    "\n",
    "print(\"found %d audio files in %s\"%(len(files),path))"
   ]
  },
  {
   "cell_type": "markdown",
   "id": "2e31e57a",
   "metadata": {},
   "source": [
    "## Labeling the data"
   ]
  },
  {
   "cell_type": "code",
   "execution_count": 19,
   "id": "93538759",
   "metadata": {},
   "outputs": [],
   "source": [
    "# Get Labels\n",
    "labels =[]\n",
    "classes=['ney','piano','santour', 'setar','tar','violin']\n",
    "color_dict={'ney':'blue', 'piano':'red', 'santour':'green', 'setar':'black', 'tar':'magenta', 'violin':'yellow'}\n",
    "color_list=[]\n",
    "for filename in files:\n",
    "    for name in classes:\n",
    "        if fnmatch.fnmatchcase(filename, './data/'+name+'*'):\n",
    "            labels.append(name)\n",
    "            color_list.append(color_dict[name])\n",
    "            break\n",
    "    else:\n",
    "        labels.append('other')"
   ]
  },
  {
   "cell_type": "markdown",
   "id": "36cc5c68",
   "metadata": {},
   "source": [
    "## Encode Labels"
   ]
  },
  {
   "cell_type": "code",
   "execution_count": 21,
   "id": "bb010c7e",
   "metadata": {},
   "outputs": [
    {
     "name": "stdout",
     "output_type": "stream",
     "text": [
      "6 classes: ney, piano, santour, setar, tar, violin\n"
     ]
    }
   ],
   "source": [
    "# Encode Labels\n",
    "labelencoder = LabelEncoder()\n",
    "labelencoder.fit(labels)\n",
    "print(len(labelencoder.classes_), \"classes:\", \", \".join(list(labelencoder.classes_)))\n",
    "classes_num = labelencoder.transform(labels)"
   ]
  },
  {
   "cell_type": "markdown",
   "id": "e57b0e95",
   "metadata": {},
   "source": [
    "## Parameters for MFCC"
   ]
  },
  {
   "cell_type": "code",
   "execution_count": 22,
   "id": "cd830dc8",
   "metadata": {},
   "outputs": [],
   "source": [
    "# Parameters\n",
    "# Signal Processing Parameters\n",
    "fs = 44100         # Sampling Frequency\n",
    "n_fft = 2048       # length of the FFT window\n",
    "hop_length = 512   # Number of samples between successive frames\n",
    "n_mels = 128       # Number of Mel bands\n",
    "n_mfcc = 13        # Number of MFCCs\n",
    "\n",
    "# Machine Learning Parameters\n",
    "testset_size = 0.25 #Percentage of data for Testing\n",
    "n_neighbors=1       # Number of neighbors for kNN Classifier"
   ]
  },
  {
   "cell_type": "markdown",
   "id": "31f523a3",
   "metadata": {},
   "source": [
    "## Function to Calculate Audio Features: MFCC"
   ]
  },
  {
   "cell_type": "code",
   "execution_count": 132,
   "id": "ca515416",
   "metadata": {},
   "outputs": [],
   "source": [
    "# Define Function to Calculate MFCC, Delta_MFCC and Delta2_MFCC\n",
    "def get_features(y, sr=fs):\n",
    "    S = librosa.feature.melspectrogram(y, sr=fs, n_mels=n_mels)\n",
    "    mfcc = librosa.feature.mfcc(S=librosa.power_to_db(S), n_mfcc=n_mfcc)\n",
    "    #select just mfcc\n",
    "    #feature_vector = np.mean(mfcc,1)\n",
    "    \n",
    "    #select mfcc and delta and delta2 as features\n",
    "    delta_mfccs = librosa.feature.delta(mfcc)\n",
    "    delta2_mfccs = librosa.feature.delta(mfcc, order=2)\n",
    "    feature_vector = np.concatenate((mfcc, delta_mfccs, delta2_mfccs))\n",
    "    feature_vector = np.mean(feature_vector,1)\n",
    "    \n",
    "    return feature_vector"
   ]
  },
  {
   "cell_type": "markdown",
   "id": "05ad659d",
   "metadata": {},
   "source": [
    "## Load audio files, calculate features and create feature vectors"
   ]
  },
  {
   "cell_type": "code",
   "execution_count": 117,
   "id": "18e32eec",
   "metadata": {},
   "outputs": [
    {
     "name": "stdout",
     "output_type": "stream",
     "text": [
      "get 1 of 36 = ./data/ney\\1.mp3\n"
     ]
    },
    {
     "name": "stderr",
     "output_type": "stream",
     "text": [
      "C:\\Users\\hamed\\anaconda3\\envs\\for_sql\\lib\\site-packages\\librosa\\core\\audio.py:165: UserWarning: PySoundFile failed. Trying audioread instead.\n",
      "  warnings.warn(\"PySoundFile failed. Trying audioread instead.\")\n"
     ]
    },
    {
     "name": "stdout",
     "output_type": "stream",
     "text": [
      "get 2 of 36 = ./data/ney\\ني - حجاز  (آلبوم شوق) - زمان خيري.mp3\n",
      "get 3 of 36 = ./data/ney\\ني - درآمد، اشاره به سيخي و ضربي (آلبوم شوق) - زمان خيري.mp3\n",
      "get 4 of 36 = ./data/ney\\ني - رامكلي (آلبوم شوق) - زمان خيري.mp3\n",
      "get 5 of 36 = ./data/ney\\ني - عليرضا بس‌ دست - در ابوعطا.mp3\n",
      "get 6 of 36 = ./data/ney\\ني - چهار مضراب (آلبوم شوق) - زمان خيري.mp3\n",
      "get 7 of 36 = ./data/piano\\1.mp3\n",
      "get 8 of 36 = ./data/piano\\پيانو - Melody of autumn - بهداد بهرامي.mp3\n",
      "get 9 of 36 = ./data/piano\\پيانو - Morning behind the Curtains - بهداد بهرامي.mp3\n",
      "get 10 of 36 = ./data/piano\\پيانو - Nobody knows - بهداد بهرامي .mp3\n",
      "get 11 of 36 = ./data/piano\\پيانو - Your Last Smile - بهداد بهرامي.mp3\n",
      "get 12 of 36 = ./data/piano\\پيانو - عاشقانه - محسن كوهستاني.mp3\n",
      "get 13 of 36 = ./data/santour\\1.mp3\n",
      "get 14 of 36 = ./data/santour\\سنتور - سه قطره خون - كامكار.mp3\n",
      "get 15 of 36 = ./data/santour\\سنتور - شهر نیستی - مصطفی مومنیان.mp3\n",
      "get 16 of 36 = ./data/santour\\سنتور - فرامرز پایور - فریبا.mp3\n",
      "get 17 of 36 = ./data/santour\\سنتور - ياد دوست - كامكار.mp3\n",
      "get 18 of 36 = ./data/santour\\سنتور - پرواز- سعید اسدی.mp3\n",
      "get 19 of 36 = ./data/setar\\1.mp3\n",
      "get 20 of 36 = ./data/setar\\سه تار - دستگاه راست پنج گانه - احمد عبادي.mp3\n",
      "get 21 of 36 = ./data/setar\\سه تار - دستگاه شور، دو بيتي، خارا - داريوش طلايي.mp3\n",
      "get 22 of 36 = ./data/setar\\سه تار - عصيان - كريم خاوري.mp3\n",
      "get 23 of 36 = ./data/setar\\سه‌ تار - یوسف فروتن - ابوعطا.mp3\n",
      "get 24 of 36 = ./data/setar\\سه‌ تار - یوسف فروتن - دشتی.mp3\n",
      "get 25 of 36 = ./data/tar\\1.mp3\n",
      "get 26 of 36 = ./data/tar\\تار - شيدايي - علي قمصري.mp3\n",
      "get 27 of 36 = ./data/tar\\تار - محسن نفر - تکنوازی در سه گاه.mp3\n",
      "get 28 of 36 = ./data/tar\\تار - محسن نفر - تکنوازی مخالف سه گاه.mp3\n",
      "get 29 of 36 = ./data/tar\\تار - وارياسيون بر روي تصنيف عاشق - ميثم ملكي.mp3\n",
      "get 30 of 36 = ./data/tar\\تار - چهار مضراب همايون - علي قمصري.mp3\n",
      "get 31 of 36 = ./data/violin\\1.mp3\n",
      "get 32 of 36 = ./data/violin\\ويولون - شروع با درآمد بنفشه - حبيت الله بديعي.mp3\n",
      "get 33 of 36 = ./data/violin\\ويولون - شوشتري - حبيب الله بديعي.mp3\n",
      "get 34 of 36 = ./data/violin\\ويولون - شوشتري - فرود به شوشتري - حبيب الله بديعي.mp3\n",
      "get 35 of 36 = ./data/violin\\ويولون - شوشتري، بيداد - حبيب الله بديعي.mp3\n",
      "get 36 of 36 = ./data/violin\\ويولون -شكسته - حبيب الله بديعي.mp3\n",
      "Calculated 36 feature vectors\n"
     ]
    }
   ],
   "source": [
    "# Load audio files, calculate features and create feature vectors\n",
    "feature_vectors = []\n",
    "sound_paths = []\n",
    "for i,f in enumerate(files):\n",
    "    print (\"get %d of %d = %s\"%(i+1, len(files), f))\n",
    "    try:\n",
    "        y, sr = librosa.load(f, sr=fs)\n",
    "        y/=y.max() #Normalize\n",
    "        if len(y) < 2:\n",
    "            print(\"Error loading %s\" % f)\n",
    "            continue\n",
    "        feat = get_features(y, sr)\n",
    "        feature_vectors.append(feat)\n",
    "        sound_paths.append(f)\n",
    "    except Exception as e:\n",
    "        print(\"Error loading %s. Error: %s\" % (f,e))\n",
    "        \n",
    "print(\"Calculated %d feature vectors\"%len(feature_vectors))"
   ]
  },
  {
   "cell_type": "markdown",
   "id": "c2a3c3c0",
   "metadata": {},
   "source": [
    "## Save feature vectors and labels"
   ]
  },
  {
   "cell_type": "code",
   "execution_count": 118,
   "id": "ed8ace48",
   "metadata": {},
   "outputs": [],
   "source": [
    "data=pd.DataFrame(feature_vectors)\n",
    "data.index.name='Sample'\n",
    "data['label']=pd.DataFrame(classes_num)\n",
    "data.to_csv('data.csv')"
   ]
  },
  {
   "cell_type": "markdown",
   "id": "ebad8d72",
   "metadata": {},
   "source": [
    "## Load feature vectors and labels"
   ]
  },
  {
   "cell_type": "code",
   "execution_count": 119,
   "id": "b2426c68",
   "metadata": {},
   "outputs": [],
   "source": [
    "data=pd.read_csv('data.csv', index_col='Sample')\n",
    "#feature_vectors=data.iloc[:,0:n_mfcc]\n",
    "feature_vectors=data.iloc[:,0:n_mfcc*3]\n",
    "classes_num=data['label']"
   ]
  },
  {
   "cell_type": "markdown",
   "id": "19f4d2a1",
   "metadata": {},
   "source": [
    "## Standardization: Zero-Mean and Unit-Variance"
   ]
  },
  {
   "cell_type": "code",
   "execution_count": 120,
   "id": "4a418d14",
   "metadata": {},
   "outputs": [
    {
     "name": "stdout",
     "output_type": "stream",
     "text": [
      "Feature vectors shape: (36, 39)\n"
     ]
    }
   ],
   "source": [
    "# Scale features using Standard Scaler\n",
    "scaler = StandardScaler()\n",
    "scaled_feature_vectors = scaler.fit_transform(np.array(feature_vectors))\n",
    "print(\"Feature vectors shape:\",scaled_feature_vectors.shape)"
   ]
  },
  {
   "cell_type": "markdown",
   "id": "37a2283a",
   "metadata": {},
   "source": [
    "## Train and Test Sets"
   ]
  },
  {
   "cell_type": "code",
   "execution_count": 121,
   "id": "87cb6552",
   "metadata": {},
   "outputs": [],
   "source": [
    "# Create Train and Test Set\n",
    "splitter = StratifiedShuffleSplit(n_splits=1, test_size=testset_size, random_state=42)\n",
    "splits = splitter.split(scaled_feature_vectors, classes_num)\n",
    "for train_index, test_index in splits:\n",
    "    train_set = scaled_feature_vectors[train_index]\n",
    "    test_set = scaled_feature_vectors[test_index]\n",
    "    train_classes = classes_num[train_index]\n",
    "    test_classes = classes_num[test_index]"
   ]
  },
  {
   "cell_type": "code",
   "execution_count": 122,
   "id": "4634b8e0",
   "metadata": {},
   "outputs": [
    {
     "name": "stdout",
     "output_type": "stream",
     "text": [
      "train_set shape: (27, 39)\n",
      "test_set shape: (9, 39)\n",
      "train_classes shape: (27,)\n",
      "test_classes shape: (9,)\n"
     ]
    }
   ],
   "source": [
    "# Check Set Shapes\n",
    "print(\"train_set shape:\",train_set.shape)\n",
    "print(\"test_set shape:\",test_set.shape)\n",
    "print(\"train_classes shape:\",train_classes.shape)\n",
    "print(\"test_classes shape:\",test_classes.shape)"
   ]
  },
  {
   "cell_type": "markdown",
   "id": "4436e3f6",
   "metadata": {},
   "source": [
    "## kNN Classification"
   ]
  },
  {
   "cell_type": "code",
   "execution_count": 123,
   "id": "2f1a3335",
   "metadata": {},
   "outputs": [],
   "source": [
    "# KNN Classifier\n",
    "n_neighbors=1\n",
    "model_knn = KNeighborsClassifier(n_neighbors=n_neighbors)"
   ]
  },
  {
   "cell_type": "code",
   "execution_count": 124,
   "id": "87dc38f6",
   "metadata": {},
   "outputs": [],
   "source": [
    "# kNN\n",
    "model_knn.fit(train_set, train_classes);"
   ]
  },
  {
   "cell_type": "code",
   "execution_count": 125,
   "id": "9c8f3178",
   "metadata": {},
   "outputs": [],
   "source": [
    "# Predict using the Test Set\n",
    "predicted_labels = model_knn.predict(test_set)"
   ]
  },
  {
   "cell_type": "markdown",
   "id": "4389f8c8",
   "metadata": {},
   "source": [
    "## Evaluation"
   ]
  },
  {
   "cell_type": "code",
   "execution_count": 126,
   "id": "ffc76e5e",
   "metadata": {},
   "outputs": [
    {
     "name": "stdout",
     "output_type": "stream",
     "text": [
      "Recall:  [1.  1.  0.5 0.5 0.5 1. ]\n",
      "Precision:  [1.   1.   0.5  1.   0.33 1.  ]\n",
      "F1-Score:  [1.   1.   0.5  0.67 0.4  1.  ]\n",
      "Accuracy: 0.67  , 6\n",
      "Number of samples: 9\n"
     ]
    }
   ],
   "source": [
    "# Recall - the ability of the classifier to find all the positive samples\n",
    "print(\"Recall: \", recall_score(test_classes, predicted_labels,average=None))\n",
    "\n",
    "# Precision - The precision is intuitively the ability of the classifier not to \n",
    "#label as positive a sample that is negative\n",
    "print(\"Precision: \", precision_score(test_classes, predicted_labels,average=None))\n",
    "\n",
    "# F1-Score - The F1 score can be interpreted as a weighted average of the precision \n",
    "#and recall\n",
    "print(\"F1-Score: \", f1_score(test_classes, predicted_labels, average=None))\n",
    "\n",
    "# Accuracy - the number of correctly classified samples\n",
    "print(\"Accuracy: %.2f  ,\" % accuracy_score(test_classes, predicted_labels,normalize=True), accuracy_score(test_classes, predicted_labels,normalize=False) )\n",
    "print(\"Number of samples:\",test_classes.shape[0])"
   ]
  },
  {
   "cell_type": "code",
   "execution_count": 127,
   "id": "bedf30e5",
   "metadata": {},
   "outputs": [],
   "source": [
    "# Compute confusion matrix\n",
    "cnf_matrix = confusion_matrix(test_classes, predicted_labels)\n",
    "np.set_printoptions(precision=2)"
   ]
  },
  {
   "cell_type": "code",
   "execution_count": 128,
   "id": "9093819e",
   "metadata": {},
   "outputs": [],
   "source": [
    "# Function to Plot Confusion Matrix\n",
    "# http://scikit-learn.org/stable/auto_examples/model_selection/plot_confusion_matrix.html\n",
    "def plot_confusion_matrix(cm, classes,\n",
    "                          normalize=False,\n",
    "                          title='Confusion matrix',\n",
    "                          cmap=plt.cm.Blues):\n",
    "    \"\"\"\n",
    "    This function prints and plots the confusion matrix.\n",
    "    Normalization can be applied by setting `normalize=True`.\n",
    "    \n",
    "    if normalize:\n",
    "        cm = cm.astype('float') / cm.sum(axis=1)[:, np.newaxis]\n",
    "        print(\"Normalized confusion matrix\")\n",
    "    else:\n",
    "        print('Confusion matrix, without normalization')\n",
    "    \"\"\"\n",
    "    #print(cm)\n",
    "\n",
    "    plt.imshow(cm, interpolation='nearest', cmap=cmap)\n",
    "    plt.title(title)\n",
    "    plt.colorbar()\n",
    "    tick_marks = np.arange(len(classes))\n",
    "    plt.xticks(tick_marks, classes, rotation=45)\n",
    "    plt.yticks(tick_marks, classes)\n",
    "\n",
    "    fmt = '.2f' if normalize else 'd'\n",
    "    thresh = cm.max() / 2.\n",
    "    for i, j in itertools.product(range(cm.shape[0]), range(cm.shape[1])):\n",
    "        plt.text(j, i, format(cm[i, j], fmt),\n",
    "                 horizontalalignment=\"center\",\n",
    "                 color=\"white\" if cm[i, j] > thresh else \"black\")\n",
    "\n",
    "    plt.tight_layout()\n",
    "    plt.ylabel('True label')\n",
    "    plt.xlabel('Predicted label')"
   ]
  },
  {
   "cell_type": "code",
   "execution_count": 129,
   "id": "abdc07c0",
   "metadata": {},
   "outputs": [
    {
     "data": {
      "image/png": "[encoded data removed]",
      "text/plain": [
       "<Figure size 1296x936 with 2 Axes>"
      ]
     },
     "metadata": {
      "needs_background": "light"
     },
     "output_type": "display_data"
    }
   ],
   "source": [
    "# Plot non-normalized confusion matrix\n",
    "plt.figure(figsize=(18,13))\n",
    "plot_confusion_matrix(cnf_matrix, classes=labelencoder.classes_,\n",
    "                      title='Confusion matrix, without normalization')"
   ]
  },
  {
   "cell_type": "code",
   "execution_count": 130,
   "id": "a29f7c3e",
   "metadata": {},
   "outputs": [],
   "source": [
    "# Find wrong predicted samples indexes\n",
    "#wrong_predictions = [i for i, (e1, e2) in enumerate(zip(test_classes, predicted_labels)) if e1 != e2]\n",
    "wrong_predictions = [i for i, (e1, e2) in enumerate(zip(predicted_labels,test_classes)) if e1 != e2]"
   ]
  },
  {
   "cell_type": "code",
   "execution_count": 131,
   "id": "600afc9a",
   "metadata": {},
   "outputs": [
    {
     "name": "stdout",
     "output_type": "stream",
     "text": [
      "True labels are:\n",
      "['setar' 'tar' 'santour']\n",
      "Predicted labels are:\n",
      "['tar' 'santour' 'tar']\n",
      "Wrong files are:\n",
      "File #0: ./data/setar\\سه تار - دستگاه راست پنج گانه - احمد عبادي.mp3\n",
      "File #1: ./data/tar\\تار - شيدايي - علي قمصري.mp3\n",
      "File #2: ./data/santour\\سنتور - ياد دوست - كامكار.mp3\n"
     ]
    }
   ],
   "source": [
    " #Find wrong predicted audio files\n",
    "print('True labels are:')    \n",
    "print(np.array(labels)[test_index[wrong_predictions]])\n",
    "#print(predicted_labels[wrong_predictions].T)\n",
    "print('Predicted labels are:')  \n",
    "print(labelencoder.inverse_transform(predicted_labels[wrong_predictions]))\n",
    "print('Wrong files are:')\n",
    "for i, index in enumerate(wrong_predictions):\n",
    "    print('File #%d:' %i,np.array(files)[test_index[index]])"
   ]
  },
  {
   "cell_type": "code",
   "execution_count": null,
   "id": "fe6dcaa2",
   "metadata": {},
   "outputs": [],
   "source": []
  },
  {
   "cell_type": "code",
   "execution_count": null,
   "id": "0a26c300",
   "metadata": {},
   "outputs": [],
   "source": []
  }
 ],
 "metadata": {
  "kernelspec": {
   "display_name": "for_sql",
   "language": "python",
   "name": "for_sql"
  },
  "language_info": {
   "codemirror_mode": {
    "name": "ipython",
    "version": 3
   },
   "file_extension": ".py",
   "mimetype": "text/x-python",
   "name": "python",
   "nbconvert_exporter": "python",
   "pygments_lexer": "ipython3",
   "version": "3.8.12"
  }
 },
 "nbformat": 4,
 "nbformat_minor": 5
}
